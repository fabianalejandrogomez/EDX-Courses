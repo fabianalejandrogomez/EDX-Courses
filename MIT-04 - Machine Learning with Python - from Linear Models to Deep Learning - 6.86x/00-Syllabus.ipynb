{
  "cells": [
    {
      "metadata": {
        "collapsed": true
      },
      "cell_type": "markdown",
      "source": "Unit 0. Course Overview\n\nHomework 0: Linear algebra and Probability Review\n\nProject 0: Setup, Numpy Exercises, Tutorial on Common\nPackages\nLecture 1: Introduction to Machine Learning\nLecture 2: Linear Classi\fer and Perceptron\nLecture 3: Hinge loss, Margin boundaries and Regularization\n\nUnit 1. Linear Classi\fers\n\nHomework 1\nLecture 4: Linear Classi\fcation and Generalization\nHomework 2\n\n"
    }
  ],
  "metadata": {
    "kernelspec": {
      "name": "python36",
      "display_name": "Python 3.6",
      "language": "python"
    },
    "language_info": {
      "mimetype": "text/x-python",
      "nbconvert_exporter": "python",
      "name": "python",
      "pygments_lexer": "ipython3",
      "version": "3.6.6",
      "file_extension": ".py",
      "codemirror_mode": {
        "version": 3,
        "name": "ipython"
      }
    }
  },
  "nbformat": 4,
  "nbformat_minor": 2
}