{
  "cells": [
    {
      "metadata": {
        "collapsed": true
      },
      "cell_type": "markdown",
      "source": "Unit 1. Introduction to Statistics\n\nHomework 0: Probability and Linear algebra Review\nLecture 1: What is statistics\nLecture 2: Probability Redux\n\nUnit 2. Parametric Inference\n\nLecture 3: Parametric Statistical Models\nLecture 4: Parametric Estimation and Con\fdence Intervals\nRecitation 1. Con\fdence Intervals of the mean of Gaussian random variables\nHomework 1: Estimation, Con\fdence Interval, Modes of Convergence\n\nLecture 5: Delta Method and Con\fdence Intervals\nRecitation 2 Con\fdence Intervals of the shift of shifted exponential random variables\nHomework 2. Statistical Models, Estimation, and Con\fdence Intervals\n\nLecture 6: Introduction to Hypothesis Testing\nLecture 7: Hypothesis Testing (Continued)\nRecitation 3. Introduction to Hypothesis Testing\nHomework 3. Introduction to Hypothesis Testing\n\nUnit 3 Methods of Estimation\n\nLecture 8: Distance measures between distributions\nRecitation 4: Distance measures between distributions Homework 4:\nDistance measures between distributions\n\nLecture 9: Introduction to Maximum Likelihood Estimation\nRecitation 5: Maximum Likelihood Estimation\nLecture 10: Covariance Matrices, Multivariate Statistics, and Fisher\nInformation\nHomework 5: Maximum Likelihood Estimation\n\nLecture 11: Maximum Likelihood Estimation (Continued) and the Method of Moments\nLecture 12: M-Estimation\nHomework 6 Maximum Likelihood Estimation and Method of Moments\n\nUnit 4 Hypothesis Testing\n\nLecture 13: Hypothesis Testing III\nRecitation 6: T-test\nLecture 14: Hypothesis Testing IV\nHomework 7\n\nLecture 15: Hypothesis Testing V\nLecture 16: Hypothesis Testing VI\nRecitation 7: Sample Kolmogorov-Smirnov test\nHomework 8\n\nUnit 5 Bayesian Statistics\n\nLecture 17: Introduction to Bayesian Statistics\nLecture 18: Je\u000brey's Prior and Bayesian Con\fdence Interval\nHomework 9: Bayesian Statistics\n\nUnit 6 Linear Regression\n\nLectures 19: Linear Regression 1\nLecture 20: Linear Regression 2\nRecitation 8: Hypothesis Test for Linear Regression\nRecitation 9: Ridge Regression\nHomework 10 Linear regression\n\nUnit 7 Generalized Linear Model\n\nLecture 21:\nLectures 22: The Canonical Link Function\nRecitation 10: Hypothesis Test for Logistic regression\nHomework 11"
    },
    {
      "metadata": {
        "trusted": true
      },
      "cell_type": "code",
      "source": "",
      "execution_count": null,
      "outputs": []
    }
  ],
  "metadata": {
    "kernelspec": {
      "name": "python36",
      "display_name": "Python 3.6",
      "language": "python"
    },
    "language_info": {
      "mimetype": "text/x-python",
      "nbconvert_exporter": "python",
      "name": "python",
      "pygments_lexer": "ipython3",
      "version": "3.6.6",
      "file_extension": ".py",
      "codemirror_mode": {
        "version": 3,
        "name": "ipython"
      }
    }
  },
  "nbformat": 4,
  "nbformat_minor": 2
}