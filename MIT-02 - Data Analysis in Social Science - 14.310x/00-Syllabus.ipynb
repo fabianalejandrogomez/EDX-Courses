{
  "cells": [
    {
      "metadata": {
        "collapsed": true
      },
      "cell_type": "markdown",
      "source": "1. MODULE 1: INTRODUCTION\n\n    • Introduction to the software R with exercises. Suggested resources for learning more on the web.\n    • Introduction to the power of data and data analysis, overview of what will be covered in the course.\n    \n2. MODULE 2: FUNDAMENTALS OF PROBABILITY, RANDOM VARIABLES, JOINT DISTRIBUTIONS, AND COLLECTING DATA\n\n    • Basics of probability and introduction to random variables.\n    • Discussion of distributions and joint distributions.\n    • Introduction to collecting data through surveys, web scraping, and other data collection methods.\n    \n3. MODULE3: DESCRIBING DATA, JOINT AND CONDITIONAL\n\nDISTRIBUTIONS OF RANDOM VARIABLES\n• Principles and practical steps for protection of human subjects in research.\n• Discussion of kernel density estimates.\n• Builds on the basics from module 2 to cover joint, marginal, and\nconditional distributions.\n\n4. MODULE 4: JOINT, MARGINAL, AND CONDITIONAL DISTRIBUTIONS & FUNCTIONS OF RANDOM VARIABLES\n\n• Similarly builds on the basics from module 2 to cover functions of random variables.\n• Discussion of moments of a distribution, expectation, and variance.\n• Basics of regression analysis.\n• Application: application of some principles of probability to the analysis of auctions. (Optional)\n\n5. MODULE5: SPECIAL DISTRIBUTIONS, THE SAMPLE MEAN, THE CENTRAL LIMIT THEOREM AND ESTIMATION\n\n• Discussion of properties of special distribution with several examples.\n• Statistics: Introduction to the sample mean, central limit theorem, and\nestimation.\n\n6. MODULE 6: ASSESSING AND DERIVING ESTIMATORSCONFIDENCE INTERVALS AND HYPOTHESIS TESTING\n\n• Deriving and assessing estimators.\n• Constructing and interpreting confidence intervals.\n• Introduction to hypothesis testing\n\n7. MODULE 7: CAUSALITY, ANALYZING RANDOMIZED EXPERIMENTS, & NONPARAMETRIC REGRESSION\n\n• Understanding randomization in the context of experimentation.\n• Introduction to nonparametric regression techniques.\n\n8. MODULE 8: SINGLE AND MULTIVARIATE LINEAR MODELS\n\n• In-depth discussion of the linear model and the multivariate linear model\n\n9. MODULE 9: PRACTICAL ISSUES IN RUNNING REGRESSIONS, AND OMITTED VARIABLE BIAS\n\n• Covariates, fixed effects, and other functional forms\n• Introduction to regression discontinuity design\n\n10. MODULE 10: INTRO TO MACHINE LEARNING AND DATA VISUALIZATION\n\n• Introduction to the use of machine learning for prediction. Covers tuning and\ntraining\n• Principles of data visualization with examples of well-crafted visual presentations of data\n\n11. MODULE11: ENDOGENEITY,INSTRUMENTAL VARIABLES, AND EXPERIMENTAL DESIGN\n\n• Understanding the problem of endogeneity. Introduction to instrumental variables\nand two stage least squares, with a discussion of how to assess the validity of an\ninstrument\n• Discussion of how to design and effective experiment, followed by an example\nfrom Indonesia."
    },
    {
      "metadata": {
        "trusted": true
      },
      "cell_type": "code",
      "source": "",
      "execution_count": null,
      "outputs": []
    },
    {
      "metadata": {
        "trusted": true
      },
      "cell_type": "code",
      "source": "",
      "execution_count": null,
      "outputs": []
    }
  ],
  "metadata": {
    "kernelspec": {
      "name": "r",
      "display_name": "R",
      "language": "R"
    },
    "language_info": {
      "mimetype": "text/x-r-source",
      "name": "R",
      "pygments_lexer": "r",
      "version": "3.5.3",
      "file_extension": ".r",
      "codemirror_mode": "r"
    }
  },
  "nbformat": 4,
  "nbformat_minor": 2
}