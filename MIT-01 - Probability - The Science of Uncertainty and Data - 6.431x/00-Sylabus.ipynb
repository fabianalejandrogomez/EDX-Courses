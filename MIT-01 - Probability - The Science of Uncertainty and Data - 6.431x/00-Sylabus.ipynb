{
  "cells": [
    {
      "metadata": {
        "collapsed": true
      },
      "cell_type": "markdown",
      "source": "Probability - The Science of Uncertainty and Data - 6.431x\nFall 2018 Syllabus\n\nUnit 0: Overview (released Tue. August 28)\n\nUnit 1: Probability models and axioms (released Mon. Sep 3; Sections 1.1-1.2)\n\n    L1: Probability models and axioms\n\nUnit 2: Conditioning and independence (released Mon. Sept 10; Sections 1.3-1.5)\n    \n    L2: Conditioning and Bayes' rule\n    L3: Independence\n\nUnit 3: Counting (released Mon. Sept 17; Section 1.6)\n    \n    L4: Counting\n\nUnit 4: Discrete random variables (released Wed. Sept 19; Sections 2.1-2.7)\n    \n    L5: Probability mass functions and expectations\n    L6: Variance; Conditioning on an event; Multiple r.v.'s\n    L7: Conditioning on a random variable; Independence of r.v.'s\n\nUnit 5: Continuous random variables (released Mon. Oct 1; Sections 3.1-3.5)\n    \n    L8: Probability density functions\n    L9: Conditioning on an event; Multiple r.v.'s\n    L10: Conditioning on a random variable; Independence; Bayes' rule\n\nUnit 6: Further topics on random variables (released Mon. Oct 15; Sections 4.1-4.3, 4.5)\n\n    L11: Derived distributions\n    L12: Sums of r.v.'s; Covariance and correlation\n    L13: Conditional expectation and variance revisited; Sum of a random number of r.v.'s\n\nUnit 7: Bayesian inference (released Mon. Oct 22 Sections 3.6, 8.1-8.4)\n       \n    L14: Introduction to Bayesian inference\n    L15: Linear models with normal noise\n    L16: Least mean squares (LMS) estimation\n    L17: Linear least mean squares (LLMS) estimation\n\nUnit 8: Limit theorems and classical statistics (released Mon. Nov 5; Sections 5.1-5.4, pp. 466-475)\n\n    L18: Inequalities, convergence, and the Weak Law of Large Numbers\n    L19: The Central Limit Theorem (CLT)\n    L20: An introduction to classical statistics\n\nUnit 9: Bernoulli and Poisson processes (released Tue. Nov 14; Sections 6.1-6-2)\n\n    L21: The Bernoulli process\n    L22: The Poisson process\n    L23: More on the Poisson process\n\nUnit 10: Markov chains (released Tue. Nov 26; Sections 7.1-7-4)\n\n    L24: Finite-state Markov chains\n    L25: Steady-state behavior of Markov chains\n    L26: Absorption probabilities and expected time to absorption",
      "attachments": {}
    },
    {
      "metadata": {
        "trusted": true
      },
      "cell_type": "code",
      "source": "",
      "execution_count": null,
      "outputs": []
    }
  ],
  "metadata": {
    "kernelspec": {
      "name": "python36",
      "display_name": "Python 3.6",
      "language": "python"
    },
    "language_info": {
      "mimetype": "text/x-python",
      "nbconvert_exporter": "python",
      "name": "python",
      "pygments_lexer": "ipython3",
      "version": "3.6.6",
      "file_extension": ".py",
      "codemirror_mode": {
        "version": 3,
        "name": "ipython"
      }
    }
  },
  "nbformat": 4,
  "nbformat_minor": 2
}